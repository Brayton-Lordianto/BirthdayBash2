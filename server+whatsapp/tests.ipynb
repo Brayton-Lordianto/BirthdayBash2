{
 "cells": [
  {
   "cell_type": "code",
   "execution_count": 1,
   "metadata": {},
   "outputs": [],
   "source": [
    "s = \"'a','b','c'\""
   ]
  },
  {
   "cell_type": "code",
   "execution_count": 4,
   "metadata": {},
   "outputs": [
    {
     "name": "stdout",
     "output_type": "stream",
     "text": [
      "Collecting bs4\n",
      "  Downloading bs4-0.0.1.tar.gz (1.1 kB)\n",
      "  Preparing metadata (setup.py) ... \u001b[?25ldone\n",
      "\u001b[?25hCollecting beautifulsoup4\n",
      "  Using cached beautifulsoup4-4.11.1-py3-none-any.whl (128 kB)\n",
      "Collecting soupsieve>1.2\n",
      "  Using cached soupsieve-2.3.2.post1-py3-none-any.whl (37 kB)\n",
      "Building wheels for collected packages: bs4\n",
      "  Building wheel for bs4 (setup.py) ... \u001b[?25ldone\n",
      "\u001b[?25h  Created wheel for bs4: filename=bs4-0.0.1-py3-none-any.whl size=1257 sha256=0c5b38e1a4a61d02d0406ef37de5aae5c7f6ecb9449903b590e426d3ead9569a\n",
      "  Stored in directory: /Users/brayton/Library/Caches/pip/wheels/73/2b/cb/099980278a0c9a3e57ff1a89875ec07bfa0b6fcbebb9a8cad3\n",
      "Successfully built bs4\n",
      "Installing collected packages: soupsieve, beautifulsoup4, bs4\n",
      "Successfully installed beautifulsoup4-4.11.1 bs4-0.0.1 soupsieve-2.3.2.post1\n",
      "\n",
      "\u001b[1m[\u001b[0m\u001b[34;49mnotice\u001b[0m\u001b[1;39;49m]\u001b[0m\u001b[39;49m A new release of pip available: \u001b[0m\u001b[31;49m22.2\u001b[0m\u001b[39;49m -> \u001b[0m\u001b[32;49m22.2.1\u001b[0m\n",
      "\u001b[1m[\u001b[0m\u001b[34;49mnotice\u001b[0m\u001b[1;39;49m]\u001b[0m\u001b[39;49m To update, run: \u001b[0m\u001b[32;49mpython3.9 -m pip install --upgrade pip\u001b[0m\n",
      "Note: you may need to restart the kernel to use updated packages.\n"
     ]
    }
   ],
   "source": [
    "%pip install bs4"
   ]
  },
  {
   "cell_type": "code",
   "execution_count": 48,
   "metadata": {},
   "outputs": [],
   "source": [
    "from bs4 import BeautifulSoup\n",
    "import requests\n",
    "from urllib.request import Request, urlopen, URLError, HTTPError\n"
   ]
  },
  {
   "cell_type": "code",
   "execution_count": 4,
   "metadata": {},
   "outputs": [
    {
     "data": {
      "text/plain": [
       "[\"'a'\", \"'b'\", \"'c'\"]"
      ]
     },
     "execution_count": 4,
     "metadata": {},
     "output_type": "execute_result"
    }
   ],
   "source": [
    "x = s.split(',')\n",
    "x"
   ]
  },
  {
   "cell_type": "code",
   "execution_count": 7,
   "metadata": {},
   "outputs": [
    {
     "data": {
      "text/plain": [
       "'https://freyhacks.devpost.com/project-gallery'"
      ]
     },
     "execution_count": 7,
     "metadata": {},
     "output_type": "execute_result"
    }
   ],
   "source": [
    "# let's try to parse the winner's screenNames from the devpost winner page\n",
    "hackathon = 'freyhacks'\n",
    "projects_link = f'https://{hackathon}.devpost.com/project-gallery'\n",
    "projects_link\n"
   ]
  },
  {
   "cell_type": "code",
   "execution_count": 33,
   "metadata": {},
   "outputs": [
    {
     "data": {
      "text/plain": [
       "['Road-Code',\n",
       " 'Farmoid',\n",
       " 'PIC',\n",
       " 'FruVeg-Explorer',\n",
       " 'Grammatica',\n",
       " 'Cohere-Camping-Creator',\n",
       " 'Salus',\n",
       " 'SummerX',\n",
       " 'DeSsert',\n",
       " 'BeerUp!',\n",
       " 'Feel-Track',\n",
       " 'PunkWallet',\n",
       " 'Camp-Pride',\n",
       " 'Travel-Cheap-with-Tech',\n",
       " 'SumFun']"
      ]
     },
     "execution_count": 33,
     "metadata": {},
     "output_type": "execute_result"
    }
   ],
   "source": [
    "result = Request(projects_link , headers={'User-Agent': 'Mozilla/5.0'})\n",
    "\n",
    "webpage = urlopen(result).read()\n",
    "doc = BeautifulSoup(webpage, 'html.parser')\n",
    "\n",
    "doc = doc.find_all(class_=\"entry-badge\")\n",
    "winner_projects = [d.parent.h5.string.strip().replace(' ','-') for d in doc]\n",
    "winner_projects"
   ]
  },
  {
   "cell_type": "code",
   "execution_count": 34,
   "metadata": {},
   "outputs": [
    {
     "data": {
      "text/plain": [
       "['https://devpost.com/software/Road-Code',\n",
       " 'https://devpost.com/software/Farmoid',\n",
       " 'https://devpost.com/software/PIC',\n",
       " 'https://devpost.com/software/FruVeg-Explorer',\n",
       " 'https://devpost.com/software/Grammatica',\n",
       " 'https://devpost.com/software/Cohere-Camping-Creator',\n",
       " 'https://devpost.com/software/Salus',\n",
       " 'https://devpost.com/software/SummerX',\n",
       " 'https://devpost.com/software/DeSsert',\n",
       " 'https://devpost.com/software/BeerUp!',\n",
       " 'https://devpost.com/software/Feel-Track',\n",
       " 'https://devpost.com/software/PunkWallet',\n",
       " 'https://devpost.com/software/Camp-Pride',\n",
       " 'https://devpost.com/software/Travel-Cheap-with-Tech',\n",
       " 'https://devpost.com/software/SumFun']"
      ]
     },
     "execution_count": 34,
     "metadata": {},
     "output_type": "execute_result"
    }
   ],
   "source": [
    "winner_links = [f'https://devpost.com/software/{name}' for name in winner_projects]\n",
    "winner_links"
   ]
  },
  {
   "cell_type": "code",
   "execution_count": 46,
   "metadata": {},
   "outputs": [
    {
     "data": {
      "text/plain": [
       "['https://devpost.com/software/road-code',\n",
       " 'https://devpost.com/software/farmoid',\n",
       " 'https://devpost.com/software/pic',\n",
       " 'https://devpost.com/software/fruveg-explorer',\n",
       " 'https://devpost.com/software/grammafy',\n",
       " 'https://devpost.com/software/cohere-camping-creator',\n",
       " 'https://devpost.com/software/salus-8jy9nt',\n",
       " 'https://devpost.com/software/summerx',\n",
       " 'https://devpost.com/software/dessert',\n",
       " 'https://devpost.com/software/climate-connect',\n",
       " 'https://devpost.com/software/feel-track',\n",
       " 'https://devpost.com/software/punkwallet',\n",
       " 'https://devpost.com/software/camp-pride',\n",
       " 'https://devpost.com/software/travel-cheap-with-tech',\n",
       " 'https://devpost.com/software/sumfun']"
      ]
     },
     "execution_count": 46,
     "metadata": {},
     "output_type": "execute_result"
    }
   ],
   "source": [
    "result = Request(projects_link , headers={'User-Agent': 'Mozilla/5.0'})\n",
    "\n",
    "webpage = urlopen(result).read()\n",
    "doc = BeautifulSoup(webpage, 'html.parser')\n",
    "\n",
    "doc = doc.find_all(class_=\"entry-badge\")\n",
    "winner_projects = [d.parent.parent.parent.a['href'] for d in doc]\n",
    "winner_projects"
   ]
  },
  {
   "cell_type": "code",
   "execution_count": 95,
   "metadata": {},
   "outputs": [],
   "source": [
    "result = Request(winner_links[10] , headers={'User-Agent': 'Mozilla/5.0'})\n",
    "webpage = urlopen(result)\n",
    "doc = BeautifulSoup(webpage, 'html.parser')\n",
    "hackathon = hackathon"
   ]
  },
  {
   "cell_type": "code",
   "execution_count": 96,
   "metadata": {},
   "outputs": [
    {
     "data": {
      "text/plain": [
       "['Best Use of Typedream', 'Best Use of Framer']"
      ]
     },
     "execution_count": 96,
     "metadata": {},
     "output_type": "execute_result"
    }
   ],
   "source": [
    "winsWhole = doc.find_all(class_='winner label radius small all-caps')\n",
    "wins = [sec.parent.text.strip()[6:].strip() for sec in winsWhole]\n",
    "wins"
   ]
  },
  {
   "cell_type": "code",
   "execution_count": 97,
   "metadata": {},
   "outputs": [
    {
     "data": {
      "text/plain": [
       "['bl3321', 'mk101', 'raghavnautiyal26', 'melioraho9']"
      ]
     },
     "execution_count": 97,
     "metadata": {},
     "output_type": "execute_result"
    }
   ],
   "source": [
    "# get names of teammates \n",
    "teamSections = doc.find_all(class_='software-team-member')\n",
    "[sec.find(class_='user-profile-link')['href'][20:] for sec in teamSections]"
   ]
  },
  {
   "cell_type": "code",
   "execution_count": 51,
   "metadata": {},
   "outputs": [
    {
     "name": "stdout",
     "output_type": "stream",
     "text": [
      "200\n",
      "200\n",
      "200\n",
      "200\n",
      "200\n",
      "200\n",
      "200\n",
      "200\n",
      "200\n",
      "200\n",
      "200\n",
      "200\n",
      "200\n",
      "200\n",
      "200\n"
     ]
    },
    {
     "data": {
      "text/plain": [
       "[<aside class=\"entry-badge\">\n",
       " <img alt=\"Winner\" class=\"winner\" src=\"https://devpost-challengepost.netdna-ssl.com/assets/shared/software/winner-ribbon-d6a3513950ca29607c8d8682f419dd99.png\"/> Winner\n",
       "             </aside>,\n",
       " <aside class=\"entry-badge\">\n",
       " <img alt=\"Winner\" class=\"winner\" src=\"https://devpost-challengepost.netdna-ssl.com/assets/shared/software/winner-ribbon-d6a3513950ca29607c8d8682f419dd99.png\"/> Winner\n",
       "             </aside>,\n",
       " <aside class=\"entry-badge\">\n",
       " <img alt=\"Winner\" class=\"winner\" src=\"https://devpost-challengepost.netdna-ssl.com/assets/shared/software/winner-ribbon-d6a3513950ca29607c8d8682f419dd99.png\"/> Winner\n",
       "             </aside>,\n",
       " <aside class=\"entry-badge\">\n",
       " <img alt=\"Winner\" class=\"winner\" src=\"https://devpost-challengepost.netdna-ssl.com/assets/shared/software/winner-ribbon-d6a3513950ca29607c8d8682f419dd99.png\"/> Winner\n",
       "             </aside>,\n",
       " <aside class=\"entry-badge\">\n",
       " <img alt=\"Winner\" class=\"winner\" src=\"https://devpost-challengepost.netdna-ssl.com/assets/shared/software/winner-ribbon-d6a3513950ca29607c8d8682f419dd99.png\"/> Winner\n",
       "             </aside>,\n",
       " <aside class=\"entry-badge\">\n",
       " <img alt=\"Winner\" class=\"winner\" src=\"https://devpost-challengepost.netdna-ssl.com/assets/shared/software/winner-ribbon-d6a3513950ca29607c8d8682f419dd99.png\"/> Winner\n",
       "             </aside>,\n",
       " <aside class=\"entry-badge\">\n",
       " <img alt=\"Winner\" class=\"winner\" src=\"https://devpost-challengepost.netdna-ssl.com/assets/shared/software/winner-ribbon-d6a3513950ca29607c8d8682f419dd99.png\"/> Winner\n",
       "             </aside>,\n",
       " <aside class=\"entry-badge\">\n",
       " <img alt=\"Winner\" class=\"winner\" src=\"https://devpost-challengepost.netdna-ssl.com/assets/shared/software/winner-ribbon-d6a3513950ca29607c8d8682f419dd99.png\"/> Winner\n",
       "             </aside>,\n",
       " <aside class=\"entry-badge\">\n",
       " <img alt=\"Winner\" class=\"winner\" src=\"https://devpost-challengepost.netdna-ssl.com/assets/shared/software/winner-ribbon-d6a3513950ca29607c8d8682f419dd99.png\"/> Winner\n",
       "             </aside>,\n",
       " <aside class=\"entry-badge\">\n",
       " <img alt=\"Winner\" class=\"winner\" src=\"https://devpost-challengepost.netdna-ssl.com/assets/shared/software/winner-ribbon-d6a3513950ca29607c8d8682f419dd99.png\"/> Winner\n",
       "             </aside>,\n",
       " <aside class=\"entry-badge\">\n",
       " <img alt=\"Winner\" class=\"winner\" src=\"https://devpost-challengepost.netdna-ssl.com/assets/shared/software/winner-ribbon-d6a3513950ca29607c8d8682f419dd99.png\"/> Winner\n",
       "             </aside>,\n",
       " <aside class=\"entry-badge\">\n",
       " <img alt=\"Winner\" class=\"winner\" src=\"https://devpost-challengepost.netdna-ssl.com/assets/shared/software/winner-ribbon-d6a3513950ca29607c8d8682f419dd99.png\"/> Winner\n",
       "             </aside>,\n",
       " <aside class=\"entry-badge\">\n",
       " <img alt=\"Winner\" class=\"winner\" src=\"https://devpost-challengepost.netdna-ssl.com/assets/shared/software/winner-ribbon-d6a3513950ca29607c8d8682f419dd99.png\"/> Winner\n",
       "             </aside>,\n",
       " <aside class=\"entry-badge\">\n",
       " <img alt=\"Winner\" class=\"winner\" src=\"https://devpost-challengepost.netdna-ssl.com/assets/shared/software/winner-ribbon-d6a3513950ca29607c8d8682f419dd99.png\"/> Winner\n",
       "             </aside>,\n",
       " <aside class=\"entry-badge\">\n",
       " <img alt=\"Winner\" class=\"winner\" src=\"https://devpost-challengepost.netdna-ssl.com/assets/shared/software/winner-ribbon-d6a3513950ca29607c8d8682f419dd99.png\"/> Winner\n",
       "             </aside>]"
      ]
     },
     "execution_count": 51,
     "metadata": {},
     "output_type": "execute_result"
    }
   ],
   "source": [
    "# explore the winner links to find which they've won\n",
    "\n",
    "for url in winner_links:\n",
    "    result = Request(url , headers={'User-Agent': 'Mozilla/5.0'})\n",
    "\n",
    "    try:\n",
    "        webpage = urlopen(result)\n",
    "        doc = BeautifulSoup(webpage, 'html.parser')\n",
    "    except HTTPError as e:\n",
    "        pass\n",
    "    except URLError as e:\n",
    "        pass\n",
    "    print(webpage.getcode())\n",
    "    # doc = BeautifulSoup(webpage, 'html.parser')"
   ]
  },
  {
   "cell_type": "code",
   "execution_count": null,
   "metadata": {},
   "outputs": [],
   "source": []
  }
 ],
 "metadata": {
  "kernelspec": {
   "display_name": "Python 3.9.13 64-bit",
   "language": "python",
   "name": "python3"
  },
  "language_info": {
   "codemirror_mode": {
    "name": "ipython",
    "version": 3
   },
   "file_extension": ".py",
   "mimetype": "text/x-python",
   "name": "python",
   "nbconvert_exporter": "python",
   "pygments_lexer": "ipython3",
   "version": "3.9.13"
  },
  "orig_nbformat": 4,
  "vscode": {
   "interpreter": {
    "hash": "b0fa6594d8f4cbf19f97940f81e996739fb7646882a419484c72d19e05852a7e"
   }
  }
 },
 "nbformat": 4,
 "nbformat_minor": 2
}
